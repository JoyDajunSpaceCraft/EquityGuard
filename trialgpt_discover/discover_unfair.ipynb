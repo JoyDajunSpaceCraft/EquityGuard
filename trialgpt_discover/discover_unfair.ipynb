{
 "cells": [
  {
   "cell_type": "code",
   "execution_count": 1,
   "id": "3f0af379-6ef0-47ff-b69b-791c41056362",
   "metadata": {},
   "outputs": [],
   "source": [
    "result_files = \"../trialgpt_results[67]/matching_results_sigir_gpt-4-turbo.json\"\n",
    "qrel = \"../sigir/extracted_titles_and_numbers.csv\""
   ]
  },
  {
   "cell_type": "code",
   "execution_count": 2,
   "id": "a8d8bc65-8c45-4c3c-8945-6ff0d48c6ca1",
   "metadata": {},
   "outputs": [],
   "source": [
    "import json\n",
    "import pandas as pd\n",
    "df = pd.read_csv(qrel)\n",
    "\n",
    "sigir_files = \"./sigir/clinicaltrials.gov-16_dec_2015\"\n",
    "with open(result_files, \"r\")as f:\n",
    "    results = json.load(f)\n",
    "patient_note = results.keys()\n",
    "patient_topic = []\n",
    "\n",
    "for i in patient_note:  \n",
    "    i = i.split(\"-\")[1]\n",
    "    patient_topic.append(df.loc[df[\"NUM\"]==int(i)].TITLE.values[0])\n",
    "    "
   ]
  },
  {
   "cell_type": "code",
   "execution_count": 3,
   "id": "1aeaf0bc-bc56-4744-a7c7-4cf1feb45a28",
   "metadata": {},
   "outputs": [
    {
     "data": {
      "text/plain": [
       "'An 8-year-old male presents in March to the ER with fever up to 39 C, dyspnea and cough for 2 days. He has just returned from a 5 day vacation in Colorado. Parents report that prior to the onset of fever and cough, he had loose stools. He denies upper respiratory tract symptoms. On examination he is in respiratory distress and has bronchial respiratory sounds on the left. A chest x-ray shows bilateral lung infiltrates.\\n'"
      ]
     },
     "execution_count": 3,
     "metadata": {},
     "output_type": "execute_result"
    }
   ],
   "source": [
    "patient_topic[1]"
   ]
  },
  {
   "cell_type": "markdown",
   "id": "478c949d-bbb5-42b5-8cf5-0e96ddc3ed2f",
   "metadata": {},
   "source": [
    "## Detected the sensitive information "
   ]
  },
  {
   "cell_type": "code",
   "execution_count": null,
   "id": "ba888525-54a7-4519-beb4-c0fcf94651c1",
   "metadata": {},
   "outputs": [],
   "source": [
    "from transformers import AutoModel, AutoTokenizer\n",
    "sensitive_words = \"sensitive_list/\"\n",
    "model_name = \"gpt2\"\n",
    "\n",
    "def filter_senstive():\n",
    "    \n",
    "def replace_senstive():\n",
    "    \n",
    "def \n"
   ]
  },
  {
   "cell_type": "markdown",
   "id": "0e4d5c31-c251-4cc1-8e35-8b40bd55406e",
   "metadata": {},
   "source": [
    "## Replace the sensitive information "
   ]
  },
  {
   "cell_type": "code",
   "execution_count": 13,
   "id": "dd9b1fa4-b501-476a-82db-9a60996665ec",
   "metadata": {},
   "outputs": [
    {
     "name": "stderr",
     "output_type": "stream",
     "text": [
      "/usr/local/lib/python3.10/dist-packages/tqdm/auto.py:21: TqdmWarning: IProgress not found. Please update jupyter and ipywidgets. See https://ipywidgets.readthedocs.io/en/stable/user_install.html\n",
      "  from .autonotebook import tqdm as notebook_tqdm\n",
      "\n",
      "KeyboardInterrupt\n",
      "\n"
     ]
    }
   ],
   "source": [
    "from transformers import pipeline\n",
    "\n",
    "# 加载预训练的命名实体识别模型\n",
    "ner_model = pipeline(\"ner\", model=\"dbmdz/bert-large-cased-finetuned-conll03-english\")\n",
    "\n",
    "# 需要分析的文本\n",
    "text = '''An 8-year-old male presents in March to the ER with fever up to 39 C, dyspnea and cough for 2 days. He has just returned from a 5 day vacation in Colorado. Parents report that prior to the onset of fever and cough, he had loose stools. He denies upper respiratory tract symptoms. On examination he is in respiratory distress and has bronchial respiratory sounds on the left. A chest x-ray shows bilateral lung infiltrates.'''\n",
    "\n",
    "# 进行命名实体识别\n",
    "entities = ner_model(text)\n",
    "\n",
    "# 打印结果\n",
    "for entity in entities:\n",
    "    print(f\"Entity: {entity['word']}, Label: {entity['entity']}\")\n"
   ]
  },
  {
   "cell_type": "markdown",
   "id": "f8e16fac-0c37-458b-9f64-52f7d33ad05b",
   "metadata": {},
   "source": [
    "## Fairness detection"
   ]
  },
  {
   "cell_type": "code",
   "execution_count": null,
   "id": "24c7ec59-1756-42aa-8a0e-129c1efbe762",
   "metadata": {},
   "outputs": [],
   "source": []
  },
  {
   "cell_type": "code",
   "execution_count": null,
   "id": "ce43f3ee-03cc-4c74-b35f-a4cf25cb0a37",
   "metadata": {},
   "outputs": [],
   "source": []
  },
  {
   "cell_type": "markdown",
   "id": "678e29b6-0b5d-4fb3-b027-97db0226abf6",
   "metadata": {},
   "source": [
    "## Calibrating the distribution of counterfactual"
   ]
  },
  {
   "cell_type": "code",
   "execution_count": null,
   "id": "52b62431-60f3-4ee4-8459-b54532039335",
   "metadata": {},
   "outputs": [],
   "source": []
  }
 ],
 "metadata": {
  "kernelspec": {
   "display_name": "NGC PyTorch",
   "language": "python",
   "name": "pytorch"
  },
  "language_info": {
   "codemirror_mode": {
    "name": "ipython",
    "version": 3
   },
   "file_extension": ".py",
   "mimetype": "text/x-python",
   "name": "python",
   "nbconvert_exporter": "python",
   "pygments_lexer": "ipython3",
   "version": "3.10.12"
  }
 },
 "nbformat": 4,
 "nbformat_minor": 5
}
